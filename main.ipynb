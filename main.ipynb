{
 "cells": [
  {
   "cell_type": "markdown",
   "id": "2c54ae28",
   "metadata": {},
   "source": [
    "### create database"
   ]
  },
  {
   "cell_type": "code",
   "execution_count": null,
   "id": "bf1db191",
   "metadata": {},
   "outputs": [],
   "source": [
    "from catbot.database.downloader import download_and_chunk_wikipedia_articles\n",
    "from catbot.database.embedding import create_data_base\n",
    "\n",
    "articles = download_and_chunk_wikipedia_articles(['Cat'])\n",
    "\n",
    "create_data_base(articles)"
   ]
  },
  {
   "cell_type": "markdown",
   "id": "094dd0d8",
   "metadata": {},
   "source": [
    "### rag"
   ]
  },
  {
   "cell_type": "code",
   "execution_count": 1,
   "id": "91ac25d6",
   "metadata": {},
   "outputs": [],
   "source": [
    "from chromadb import Collection, PersistentClient\n",
    "from catbot.database.embedding import embedding_function\n",
    "\n",
    "\n",
    "client = PersistentClient(path='catbot/database/chroma')\n",
    "collection = client.get_collection(\"its_all_about_cats\", embedding_function=embedding_function(model_name=\"text-embedding-3-small\"))\n",
    "\n"
   ]
  },
  {
   "cell_type": "markdown",
   "id": "480a4116",
   "metadata": {},
   "source": [
    "basic rag"
   ]
  },
  {
   "cell_type": "code",
   "execution_count": 2,
   "id": "4c516160",
   "metadata": {},
   "outputs": [
    {
     "data": {
      "text/plain": [
       "{'response': 'Cats have been domesticated for nearly 10,000 years. The oldest evidence of cats kept as pets is from the Mediterranean island of Cyprus, around 7500 BC. In ancient times, especially in Egypt, people kept cats because they hunted and ate mice and rats. Ancient Egyptians worshipped cats as gods and often mummified them to be with their owners \"for all of eternity\". Cats started becoming pets during the time of the ancient Egyptians. Today, people often keep cats as pets, and some cats live without being cared for by people, known as feral or stray cats.',\n",
       " 'sources': [{'document': 'Cat - History\\n\\nIn the past, mostly in Egypt, people kept cats because the cats hunted and ate mice and rats. The oldest evidence of cats kept as pets is from the Mediterranean island of Cyprus, around 7500 BC. Ancient Egyptians worshipped cats as gods, and often mummified them so they could be with their owners \"for all of eternity\".\\nToday, people often keep cats as pets. There are also domestic cats which live without being cared for by people. These cats are called \"feral cats\" or \"stray cats\". The cats started becoming pets when the ancient Egyptians were around.',\n",
       "   'metadata': {'title': 'Cat - History',\n",
       "    'source': 'In the past, mostly in Egypt, people kept cats because the cats hunted and ate mice and rats. The oldest evidence of cats kept as pets is from the Mediterranean island of Cyprus, around 7500 BC. Ancient Egyptians worshipped cats as gods, and often mummified them so they could be with their owners \"for all of eternity\".\\nToday, people often keep cats as pets. There are also domestic cats which live without being cared for by people. These cats are called \"feral cats\" or \"stray cats\". The cats started becoming pets when the ancient Egyptians were around.'},\n",
       "   'distance': 0.24090027809143066},\n",
       "  {'document': 'Cat - Introduction\\n\\nCats, also called domestic cats (Felis catus), are small, carnivorous (meat eating) mammals, of the family Felidae. Cats have been domesticated (tamed) for nearly 10,000 years.',\n",
       "   'metadata': {'title': 'Cat - Introduction',\n",
       "    'source': 'Cats, also called domestic cats (Felis catus), are small, carnivorous (meat eating) mammals, of the family Felidae. Cats have been domesticated (tamed) for nearly 10,000 years.'},\n",
       "   'distance': 0.368948757648468}]}"
      ]
     },
     "execution_count": 2,
     "metadata": {},
     "output_type": "execute_result"
    }
   ],
   "source": [
    "from catbot.rag.basic_rag import BasicRAG\n",
    "rag = BasicRAG(collection)\n",
    "rag.respond(\"What is the history of cats?\")"
   ]
  }
 ],
 "metadata": {
  "kernelspec": {
   "display_name": ".catbot",
   "language": "python",
   "name": "python3"
  },
  "language_info": {
   "codemirror_mode": {
    "name": "ipython",
    "version": 3
   },
   "file_extension": ".py",
   "mimetype": "text/x-python",
   "name": "python",
   "nbconvert_exporter": "python",
   "pygments_lexer": "ipython3",
   "version": "3.13.7"
  }
 },
 "nbformat": 4,
 "nbformat_minor": 5
}
