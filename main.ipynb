{
 "cells": [
  {
   "cell_type": "markdown",
   "id": "2c54ae28",
   "metadata": {},
   "source": [
    "# Catbot - Miao\n",
    "\n",
    "This notebook \n",
    "* Creates a database using ChromaDB\n",
    "* Creates a QA RAG to query the database\n",
    "* Generates a synthetic dataset using Ragas and a custom prompt\n",
    "* Evaluation the responses obtained from the RAG using Ragas metrics\n",
    "\n",
    "___\n",
    "Created: Sept 2025"
   ]
  },
  {
   "cell_type": "code",
   "execution_count": 1,
   "id": "515e484d",
   "metadata": {},
   "outputs": [
    {
     "name": "stderr",
     "output_type": "stream",
     "text": [
      "/Users/mariabader/Documents/catbot/.catbot/lib/python3.13/site-packages/tqdm/auto.py:21: TqdmWarning: IProgress not found. Please update jupyter and ipywidgets. See https://ipywidgets.readthedocs.io/en/stable/user_install.html\n",
      "  from .autonotebook import tqdm as notebook_tqdm\n"
     ]
    }
   ],
   "source": [
    "# Database\n",
    "from catbot.database.downloader import download_and_chunk_wikipedia_articles\n",
    "from catbot.database.embedding import create_data_base\n",
    "\n",
    "# RAG\n",
    "from chromadb import PersistentClient\n",
    "from catbot.database.embedding import embedding_function\n",
    "from catbot.rag.basic_rag import BasicRAG\n",
    "\n",
    "# Synthetic data and evaluation\n",
    "from ragas.testset import TestsetGenerator\n",
    "from catbot.utils import get_evaluation_models\n",
    "from ragas.dataset_schema import SingleTurnSample \n",
    "from ragas.metrics import (\n",
    "    AnswerCorrectness,\n",
    "    AnswerSimilarity,\n",
    "    Faithfulness,\n",
    "    LLMContextRecall,\n",
    "    ResponseRelevancy,\n",
    "    SemanticSimilarity,\n",
    ")\n",
    "from ragas.testset.synthesizers import default_query_distribution\n",
    "\n",
    "generator_llm, generator_embeddings = get_evaluation_models()\n"
   ]
  },
  {
   "cell_type": "markdown",
   "id": "0dd27b9a",
   "metadata": {},
   "source": [
    "## Create or load the database\n",
    "Download the articles under 'Cat' and chunk them according to their sections. Then, embedd the chunks and save them as a chroma collection."
   ]
  },
  {
   "cell_type": "code",
   "execution_count": 2,
   "id": "bf1db191",
   "metadata": {},
   "outputs": [
    {
     "name": "stdout",
     "output_type": "stream",
     "text": [
      "Database already exists, loaded existing database.\n"
     ]
    }
   ],
   "source": [
    "articles = download_and_chunk_wikipedia_articles(['Cat'])\n",
    "\n",
    "try:\n",
    "    create_data_base(articles)\n",
    "    print(\"Database created successfully.\")\n",
    "except:\n",
    "    client = PersistentClient(path='catbot/database/chroma')\n",
    "    collection = client.get_collection(\"its_all_about_cats\", embedding_function=embedding_function(model_name=\"text-embedding-3-small\"))\n",
    "    print(\"Database already exists, loaded existing database.\")"
   ]
  },
  {
   "cell_type": "markdown",
   "id": "094dd0d8",
   "metadata": {},
   "source": [
    "## Set up the QA RAG\n",
    "Load the locally stored database into a chroma collection. Provide it to the basic RAG - done. You can now query the rag."
   ]
  },
  {
   "cell_type": "code",
   "execution_count": 3,
   "id": "91ac25d6",
   "metadata": {},
   "outputs": [
    {
     "name": "stdout",
     "output_type": "stream",
     "text": [
      "Question:  What is the history of cats?\n",
      "Response:  Cats have been domesticated for nearly 10,000 years. The oldest evidence of cats kept as pets is from the Mediterranean island of Cyprus, around 7500 BC. In the past, mostly in Egypt, people kept cats because they hunted and ate mice and rats. Ancient Egyptians worshipped cats as gods and often mummified them so they could be with their owners \"for all of eternity\". Cats started becoming pets during the time of the ancient Egyptians. Today, people often keep cats as pets, and some domestic cats live without care from people as feral or stray cats.\n",
      "Contexts:\n",
      "-> Cat - History\n",
      "-> Cat - Introduction\n"
     ]
    }
   ],
   "source": [
    "rag = BasicRAG(collection)\n",
    "\n",
    "question = \"What is the history of cats?\"\n",
    "response = rag.respond(question)\n",
    "\n",
    "print(\"Question: \", question)\n",
    "print(\"Response: \", response['response'])\n",
    "\n",
    "context_titles = [context['metadata']['title'] for context in response['sources']]\n",
    "print(\"Contexts:\")\n",
    "for title in context_titles:\n",
    "    print(\"->\", title)"
   ]
  },
  {
   "cell_type": "markdown",
   "id": "a2fe2575",
   "metadata": {},
   "source": [
    "## Generate Synthetic data"
   ]
  },
  {
   "cell_type": "markdown",
   "id": "33365390",
   "metadata": {},
   "source": [
    "## Using Ragas"
   ]
  },
  {
   "cell_type": "code",
   "execution_count": 7,
   "id": "9cd2af37",
   "metadata": {},
   "outputs": [
    {
     "name": "stderr",
     "output_type": "stream",
     "text": [
      "Applying CustomNodeFilter:   0%|          | 0/12 [00:00<?, ?it/s]       Node 982d0455-a307-4b03-a8e2-918c9292fe2a does not have a summary. Skipping filtering.\n",
      "Node 2bce5b94-08d0-4889-99d5-92fe3d825b10 does not have a summary. Skipping filtering.\n",
      "Node 3ab156dc-9028-4c8a-8974-7be0542b7be2 does not have a summary. Skipping filtering.\n",
      "Generating personas: 100%|██████████| 3/3 [00:01<00:00,  2.25it/s]                                           \n",
      "Generating Scenarios: 100%|██████████| 1/1 [00:04<00:00,  4.93s/it]\n",
      "Generating Samples: 100%|██████████| 2/2 [00:03<00:00,  1.89s/it]\n"
     ]
    }
   ],
   "source": [
    "generator = TestsetGenerator(llm=generator_llm, embedding_model=generator_embeddings)\n",
    "query_distribution = default_query_distribution(llm=generator_llm)\n",
    "\n",
    "synthetic_data = generator.generate_with_langchain_docs(articles, testset_size=5, query_distribution=[query_distribution[1]],)"
   ]
  },
  {
   "cell_type": "code",
   "execution_count": null,
   "id": "b5928804",
   "metadata": {},
   "outputs": [
    {
     "data": {
      "text/plain": [
       "[TestsetSample(eval_sample=SingleTurnSample(user_input='How do the effects of spaying and neutering influence cat behaviour, particularly in terms of activity levels and lifespan, and how does this relate to their natural hunting instincts?', retrieved_contexts=None, reference_contexts=['<1-hop>\\n\\nCat - Health\\n\\nIn 2023, pet cats lived for, on average, 13 years. This has increased from seven years in the 1980s. Creme Puff, the oldest cat that ever lived, died at the age of 38.\\nCats that roam outside will get fleas at some time. Cat fleas will not live on people, but fleas will not hesitate to bite anyone nearby. Vets have a good product which they put just behind the cat\\'s upper neck, where it can\\'t be licked off.\\nCats kept indoors most of the time are kept from danger from the outside. That is obvious, but its own nature is be free to wander. \\nHouse cats can become overweight through lack of exercise and over-feeding. When they get spayed or neutered (\"fixed\"), they tend to exercise less. If a male cat is not neutered, it develops a disgusting smell. Neutering can make cats live longer.\\nKittens are sometimes born with unusual traits. Some are serious problems, many of which are similar to human genetic disorders. Others are harmless, like polydactyly. Most cats have only four to five toes on each paw. Polydactyl cats have six, seven, or sometimes even more. These cats can also be called Hemingway cats because author Ernest Hemingway owned cats like these.', \"<2-hop>\\n\\nCat - Behaviour\\n\\nCats are active carnivores, meaning that in the wild they hunt live animals. They mostly hunt small mammals (like mice). They will also sometimes hunt birds. Cats eat a wide variety of animals, including insects such as flies and grasshoppers. Their main method of hunting is stalk and pounce. \\nThe basic cat coat colouring, tabby (see top photo), makes it easy for the cat to hide in grass and woodland. The cat moves towards the animal it wants to hunt, keeping its body flat and near the ground so that it cannot be seen easily. When it is close enough, it runs towards the animal it is hunting and tries to jump on it. Cats, especially kittens, practice these instinctive behaviours in play with each other or on small toys.\\nCats can catch fish. They try to flip the fish out of the water and over the cat's shoulders using their front paw. Dutch research showed this to be an innate (inherited) behaviour pattern which developed early and without the mother teaching it.\\nCats are quiet and well-behaved animals, making them popular pets. Young kittens are playful. They can easily entertain themselves with a variety of store-bought or homemade toys. House cats have also been known to teach themselves to use lever-type doorknobs and toilet handles.\\nCats are independent animals. They can look after themselves and do not need as much attention as dogs do.\"], response=None, multi_responses=None, reference=\"Spaying and neutering cats tend to reduce their activity levels, as neutered cats exercise less than unneutered ones. This decrease in exercise can contribute to house cats becoming overweight. However, neutering also has positive effects, such as preventing the development of a strong odor in male cats and potentially increasing their lifespan. Despite these changes, cats retain their natural hunting instincts, which involve stalking and pouncing on small animals like mice and birds. These behaviours are innate and practiced even by kittens during play. Therefore, while spaying and neutering affect activity levels and health, cats' instinctive behaviours as active carnivores remain a fundamental aspect of their nature.\", rubrics=None), synthesizer_name='multi_hop_abstract_query_synthesizer'),\n",
       " TestsetSample(eval_sample=SingleTurnSample(user_input='How do cats demonstrate their instinctive hunting behaviours as hunters, and what methods do they use to catch prey?', retrieved_contexts=None, reference_contexts=['<1-hop>\\n\\nCat - Overview\\n\\nDomestic cats may be called \"house cats\" when kept as indoor pets. They are one of the most popular pets in the world. Humans keep them for hunting mice and rats, and as friends. There are also farm cats, which keep mice and rats away; and feral cats, which are domestic cats that live away from humans. In 2021, there were about 220 million pet cats and 480 million feral cats in the world.\\nThere are about 92 breeds of cat. Domestic cats are found in shorthair, longhair, and hairless breeds. Cats which are not specific breeds can be referred to as \\'domestic shorthair\\' (DSH) or \\'domestic longhair\\' (DLH).\\nThe word \\'cat\\' is also used for other felines, like lions, tigers, leopards, jaguars, pumas, and cheetahs.', \"<2-hop>\\n\\nCat - Behaviour\\n\\nCats are active carnivores, meaning that in the wild they hunt live animals. They mostly hunt small mammals (like mice). They will also sometimes hunt birds. Cats eat a wide variety of animals, including insects such as flies and grasshoppers. Their main method of hunting is stalk and pounce. \\nThe basic cat coat colouring, tabby (see top photo), makes it easy for the cat to hide in grass and woodland. The cat moves towards the animal it wants to hunt, keeping its body flat and near the ground so that it cannot be seen easily. When it is close enough, it runs towards the animal it is hunting and tries to jump on it. Cats, especially kittens, practice these instinctive behaviours in play with each other or on small toys.\\nCats can catch fish. They try to flip the fish out of the water and over the cat's shoulders using their front paw. Dutch research showed this to be an innate (inherited) behaviour pattern which developed early and without the mother teaching it.\\nCats are quiet and well-behaved animals, making them popular pets. Young kittens are playful. They can easily entertain themselves with a variety of store-bought or homemade toys. House cats have also been known to teach themselves to use lever-type doorknobs and toilet handles.\\nCats are independent animals. They can look after themselves and do not need as much attention as dogs do.\"], response=None, multi_responses=None, reference='Cats demonstrate their instinctive hunting behaviours through stalking and pouncing on live animals, primarily small mammals like mice, and sometimes birds and insects. They use their tabby coat colouring to hide in grass and woodland, moving their bodies flat and close to the ground to avoid detection. When close enough, they run towards their prey and jump on it. Kittens practice these instinctive behaviours through play. Additionally, cats can catch fish by flipping them out of the water over their shoulders using their front paw, a behaviour shown by Dutch research to be innate and developed without maternal teaching.', rubrics=None), synthesizer_name='multi_hop_abstract_query_synthesizer')]"
      ]
     },
     "execution_count": 6,
     "metadata": {},
     "output_type": "execute_result"
    }
   ],
   "source": [
    "synthetic_data.samples"
   ]
  },
  {
   "cell_type": "markdown",
   "id": "bcf476da",
   "metadata": {},
   "source": [
    "The `default_query_distribution` object allows for a blend of different synthetic data generation types: [0] gives `SingleHopSpecificQuerySynthesizer`, [1] gives `MultiHopAbstractQuerySynthesizer` and [2] gives `MultiHopAbstractQuerySynthesizer`. "
   ]
  },
  {
   "cell_type": "code",
   "execution_count": 11,
   "id": "465d0932",
   "metadata": {},
   "outputs": [
    {
     "data": {
      "text/plain": [
       "(MultiHopAbstractQuerySynthesizer(name='multi_hop_abstract_query_synthesizer', llm=LangchainLLMWrapper(langchain_llm=ChatOpenAI(...)), generate_query_reference_prompt=QueryAnswerGenerationPrompt(instruction=Generate a multi-hop query and answer based on the specified conditions (persona, themes, style, length) and the provided context. The themes represent a set of phrases either extracted or generated from the context, which highlight the suitability of the selected context for multi-hop query creation. Ensure the query explicitly incorporates these themes.### Instructions:\n",
       " 1. **Generate a Multi-Hop Query**: Use the provided context segments and themes to form a query that requires combining information from multiple segments (e.g., `<1-hop>` and `<2-hop>`). Ensure the query explicitly incorporates one or more themes and reflects their relevance to the context.\n",
       " 2. **Generate an Answer**: Use only the content from the provided context to create a detailed and faithful answer to the query. Avoid adding information that is not directly present or inferable from the given context.\n",
       " 3. **Multi-Hop Context Tags**:\n",
       "    - Each context segment is tagged as `<1-hop>`, `<2-hop>`, etc.\n",
       "    - Ensure the query uses information from at least two segments and connects them meaningfully., examples=[(QueryConditions(persona=Persona(name='Historian', role_description='Focuses on major scientific milestones and their global impact.'), themes=['Theory of Relativity', 'Experimental Validation'], query_style='Formal', query_length='Medium', context=['<1-hop> Albert Einstein developed the theory of relativity, introducing the concept of spacetime.', '<2-hop> The bending of light by gravity was confirmed during the 1919 solar eclipse, supporting Einstein’s theory.']), GeneratedQueryAnswer(query='How was the experimental validation of the theory of relativity achieved during the 1919 solar eclipse?', answer='The experimental validation of the theory of relativity was achieved during the 1919 solar eclipse by confirming the bending of light by gravity, which supported Einstein’s concept of spacetime as proposed in the theory.'))], language=english), relation_property='summary_similarity', abstract_property_name='themes', concept_combination_prompt=ConceptCombinationPrompt(instruction=Form combinations by pairing concepts from at least two different lists.\n",
       " **Instructions:**\n",
       " - Review the concepts from each node.\n",
       " - Identify concepts that can logically be connected or contrasted.\n",
       " - Form combinations that involve concepts from different nodes.\n",
       " - Each combination should include at least one concept from two or more nodes.\n",
       " - List the combinations clearly and concisely.\n",
       " - Do not repeat the same combination more than once., examples=[(ConceptsList(lists_of_concepts=[['Artificial intelligence', 'Automation'], ['Healthcare', 'Data privacy']], max_combinations=2), ConceptCombinations(combinations=[['Artificial intelligence', 'Healthcare'], ['Automation', 'Data privacy']]))], language=english), theme_persona_matching_prompt=ThemesPersonasMatchingPrompt(instruction=Given a list of themes and personas with their roles, associate each persona with relevant themes based on their role description., examples=[(ThemesPersonasInput(themes=['Empathy', 'Inclusivity', 'Remote work'], personas=[Persona(name='HR Manager', role_description='Focuses on inclusivity and employee support.'), Persona(name='Remote Team Lead', role_description='Manages remote team communication.')]), PersonaThemesMapping(mapping={'HR Manager': ['Inclusivity', 'Empathy'], 'Remote Team Lead': ['Remote work', 'Empathy']}))], language=english)),\n",
       " 0.3333333333333333)"
      ]
     },
     "execution_count": 11,
     "metadata": {},
     "output_type": "execute_result"
    }
   ],
   "source": [
    "query_distribution[1]"
   ]
  },
  {
   "cell_type": "markdown",
   "id": "abe6c115",
   "metadata": {},
   "source": [
    "## Using a custom prompt\n",
    "The prompt below can be used for custom synthetic data generation.\n"
   ]
  },
  {
   "cell_type": "code",
   "execution_count": null,
   "id": "aae332e3",
   "metadata": {},
   "outputs": [],
   "source": [
    "prompt = \"\"\"\n",
    "Given the following documentation page, generate one clear, specific question that can \n",
    "be answered using information found only on this page.\n",
    "\n",
    "Guidelines:\n",
    "- Keep the question focused and concise (no more than 25 words).\n",
    "- Make it practical—ask about concepts, actions, or procedures as a real user would.\n",
    "- Avoid asking for lists of steps or comprehensive summaries.\n",
    "- Ask as if you needed a precise answer for a specific task, not a generic explanation.\n",
    "- Avoid overly broad, complex, or multi-part questions.\n",
    "- Do not ask for details not explicitly stated in the document.\n",
    "- Don't use the question you find in the title, come up with something new\n",
    "Example of a good question:\n",
    "- How do I reconcile Mollie transactions with payments and invoices?\n",
    "\n",
    "Documentation Page:\n",
    "{context}\n",
    "\n",
    "Generated question: \n",
    "\"\"\""
   ]
  },
  {
   "cell_type": "markdown",
   "id": "73546d03",
   "metadata": {},
   "source": [
    "## Evaluation with Ragas metrics\n",
    "To showcase the evaluation metrics, we are going to use a single question that was generated above"
   ]
  },
  {
   "cell_type": "code",
   "execution_count": 27,
   "id": "5182ff6b",
   "metadata": {},
   "outputs": [
    {
     "name": "stdout",
     "output_type": "stream",
     "text": [
      "Question:  How does the unique anatomy of cats, such as their extra lumbar and thoracic vertebrae and free-floating clavicle bones, contribute to their flexibility and hunting abilities, and how does keeping cats indoors impact their safety and health?\n",
      "Reference:  Cats have an anatomy similar to other members of the genus Felis, including extra lumbar and thoracic vertebrae, which contribute to their exceptional flexibility. Additionally, their front paws are attached to the shoulder by free-floating clavicle bones, allowing them to pass their bodies through any space their heads can fit into. This flexibility and precise walking gait, including a unique pacing gait, enhance their mobility and hunting skills, especially for catching small rodents, which is reflected in their narrowly spaced canine teeth adapted for this prey. However, cats kept indoors most of the time are protected from dangers such as fleas, which outdoor cats commonly encounter. Indoor cats are safer from external threats but may become overweight due to lack of exercise and overfeeding, especially after being spayed or neutered, although neutering can increase their lifespan. Thus, while their anatomy supports their natural hunting abilities, indoor living improves their safety but requires attention to their health and activity levels.\n",
      "\n",
      "Response:  The extra lumbar and thoracic vertebrae in cats contribute to their flexibility, allowing them to move in ways that other animals cannot. The free-floating clavicle bones enable cats to pass their bodies through any space into which they can fit their heads, further enhancing their agility. These anatomical features support their hunting abilities by allowing them to move swiftly, precisely, and with great flexibility when pursuing prey such as small rodents.\n",
      "\n",
      "The context does not provide information on how keeping cats indoors impacts their safety and health.\n",
      "\n",
      "Meow.\n",
      "Contexts:  ['Cat - Anatomy\\n\\nCats have anatomy similar to the other members of the genus Felis. The genus has extra lumbar (lower back) and thoracic (chest) vertebrae. This helps explain why cats are very flexible. Unlike human arms, cat\\'s front paws are attached to the shoulder by free-floating clavicle bones. These allow cats to pass their body through any space into which they can fit their heads.\\nThe cat skull, unlike most mammals, has very large eye sockets and a powerful jaw. Compared to other felines, domestic cats have narrowly spaced canine teeth: this is an adaptation to their preferred prey of small rodents. Cats, like dogs, walk directly on their toes, with the bones of their feet making up the lower part of the visible leg.\\nCats walk very precisely. Unlike most mammals, when cats walk, they use a \"pacing\" gait (walking style); that is, they move the two legs on one side of the body before the legs on the other side. This trait is shared with camels and giraffes. As a walk speeds up into a trot, a cat\\'s gait will change to be a \"diagonal\" gait, similar to that of most other mammals: the diagonally opposite hind and forelegs will move at the same time. Most cats have five claws on their front paws, and four on their rear paws. On the inside of the front paws there is something which looks like a sixth \"finger\". This special feature on the inside of the wrists is the carpal pad. The carpal pad is also found on other cats and on dogs.']\n"
     ]
    }
   ],
   "source": [
    "question = synthetic_data.samples[0].eval_sample.user_input\n",
    "reference = synthetic_data.samples[0].eval_sample.reference\n",
    "\n",
    "response_object = rag.respond(question)\n",
    "response = response_object['response']\n",
    "retrieved_contexts = [context['document'] for context in response_object['sources']]\n",
    "\n",
    "print(\"Question: \", question)\n",
    "print(\"Reference: \", reference)\n",
    "print()\n",
    "print(\"Response: \", response)\n",
    "print(\"Contexts: \", retrieved_contexts)\n"
   ]
  },
  {
   "cell_type": "markdown",
   "id": "c13d9307",
   "metadata": {},
   "source": [
    "### Retrieval: Context Recall "
   ]
  },
  {
   "cell_type": "code",
   "execution_count": 22,
   "id": "40222d2d",
   "metadata": {},
   "outputs": [
    {
     "data": {
      "text/plain": [
       "0.5"
      ]
     },
     "execution_count": 22,
     "metadata": {},
     "output_type": "execute_result"
    }
   ],
   "source": [
    "sample = SingleTurnSample(\n",
    "    user_input=question,\n",
    "    reference = reference,\n",
    "    retrieved_contexts=retrieved_contexts,\n",
    ")\n",
    "\n",
    "context_recall = LLMContextRecall(llm=generator_llm)\n",
    "await context_recall.single_turn_ascore(sample)"
   ]
  },
  {
   "cell_type": "markdown",
   "id": "f9eaf400",
   "metadata": {},
   "source": [
    "## Generation: Faithfulness and Correctness"
   ]
  },
  {
   "cell_type": "markdown",
   "id": "afd66766",
   "metadata": {},
   "source": [
    "### Faithfulness\n",
    "Evaluate the response based on the retrieved context, requires question, response and context."
   ]
  },
  {
   "cell_type": "code",
   "execution_count": 23,
   "id": "53dab947",
   "metadata": {},
   "outputs": [
    {
     "name": "stdout",
     "output_type": "stream",
     "text": [
      "Question:  How does the unique anatomy of cats, such as their extra lumbar and thoracic vertebrae and free-floating clavicle bones, contribute to their flexibility and hunting abilities, and how does keeping cats indoors impact their safety and health?\n",
      "Response:  Cats' unique anatomy, including extra lumbar and thoracic vertebrae, contributes to their high flexibility. This flexibility allows them to move easily and fit their bodies through any space into which they can fit their heads. Additionally, their front paws are attached to the shoulder by free-floating clavicle bones, which further aid in their ability to pass through tight spaces. These anatomical features support cats' hunting abilities by enabling precise and agile movements necessary for catching small prey like rodents.\n",
      "\n",
      "The context does not provide information about how keeping cats indoors impacts their safety and health.\n",
      "\n",
      "Meow.\n",
      "Contexts:  1  contexts\n",
      "Faithfulness score:  0.7\n"
     ]
    }
   ],
   "source": [
    "sample = SingleTurnSample(\n",
    "    user_input=question,\n",
    "    response=response,\n",
    "    retrieved_contexts=retrieved_contexts,\n",
    ")\n",
    "scorer = Faithfulness(llm=generator_llm)\n",
    "\n",
    "print(\"Question: \", sample.user_input)\n",
    "print(\"Response: \", sample.response)\n",
    "print(\"Contexts: \", len(sample.retrieved_contexts), \" contexts\")\n",
    "print(\"Faithfulness score: \", await scorer.single_turn_ascore(sample))\n"
   ]
  },
  {
   "cell_type": "markdown",
   "id": "7b177afb",
   "metadata": {},
   "source": [
    "### Answer Correctness\n",
    "Evaluate the response based on the ground truth, requires question, response and context and ground truth."
   ]
  },
  {
   "cell_type": "code",
   "execution_count": 28,
   "id": "698372d0",
   "metadata": {},
   "outputs": [
    {
     "name": "stdout",
     "output_type": "stream",
     "text": [
      "AnswerCorrectness score:  0.8452824326211854\n"
     ]
    }
   ],
   "source": [
    "sample = SingleTurnSample(\n",
    "    user_input=question,\n",
    "    response=response,\n",
    "    reference=reference,\n",
    ")\n",
    "\n",
    "answer_similarity = AnswerSimilarity(embeddings = generator_embeddings)\n",
    "scorer = AnswerCorrectness(llm=generator_llm, answer_similarity=answer_similarity, weights = [0,1])\n",
    "\n",
    "print(\"AnswerCorrectness score: \", await scorer.single_turn_ascore(sample))"
   ]
  },
  {
   "cell_type": "markdown",
   "id": "5415d2ac",
   "metadata": {},
   "source": [
    "Answer Correctness needs the semantic similarity module, it can be explicitely called as below"
   ]
  },
  {
   "cell_type": "code",
   "execution_count": 26,
   "id": "8b6da91d",
   "metadata": {},
   "outputs": [
    {
     "name": "stdout",
     "output_type": "stream",
     "text": [
      "Semantic Similarity:  0.5873730040920158\n"
     ]
    }
   ],
   "source": [
    "sample = SingleTurnSample(\n",
    "    response='what is the latin name for cat?',\n",
    "    reference  = 'Translate \"Felis catus\"'\n",
    ")\n",
    "\n",
    "scorer = SemanticSimilarity(embeddings=generator_embeddings)\n",
    "print(\"Semantic Similarity: \", await scorer.single_turn_ascore(sample))"
   ]
  },
  {
   "cell_type": "markdown",
   "id": "220a6afa",
   "metadata": {},
   "source": [
    "## End-to-End: Response Relevancy\n",
    "Generates a set of questions from the response, embedds them, calculates cosine similarity to the user question and averages."
   ]
  },
  {
   "cell_type": "code",
   "execution_count": null,
   "id": "2ca747a3",
   "metadata": {},
   "outputs": [
    {
     "data": {
      "text/plain": [
       "np.float64(0.7658875076572474)"
      ]
     },
     "execution_count": 29,
     "metadata": {},
     "output_type": "execute_result"
    }
   ],
   "source": [
    "sample = SingleTurnSample(\n",
    "    user_input=question,\n",
    "    response = response['response'],\n",
    "    )\n",
    "\n",
    "scorer = ResponseRelevancy(llm=generator_llm, embeddings=generator_embeddings)\n",
    "\n",
    "print(\"Question: \", sample.user_input)\n",
    "print(\"Response: \", sample.response)\n",
    "print(\"Response Relevancy: \", await scorer.single_turn_ascore(sample))"
   ]
  }
 ],
 "metadata": {
  "kernelspec": {
   "display_name": ".catbot",
   "language": "python",
   "name": "python3"
  },
  "language_info": {
   "codemirror_mode": {
    "name": "ipython",
    "version": 3
   },
   "file_extension": ".py",
   "mimetype": "text/x-python",
   "name": "python",
   "nbconvert_exporter": "python",
   "pygments_lexer": "ipython3",
   "version": "3.13.7"
  }
 },
 "nbformat": 4,
 "nbformat_minor": 5
}
